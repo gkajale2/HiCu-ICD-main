{
 "cells": [
  {
   "cell_type": "markdown",
   "id": "d0473c71",
   "metadata": {},
   "source": [
    "Install required packages"
   ]
  },
  {
   "cell_type": "code",
   "execution_count": null,
   "id": "f3336262",
   "metadata": {},
   "outputs": [],
   "source": [
    "!pip install gensim==4.1.2\n",
    "!pip install nltk==3.5\n",
    "!pip install numpy==1.18.1\n",
    "!pip install pandas==1.0.0\n",
    "!pip install scikit_learn==1.1.1\n",
    "!pip install scipy==1.4.1\n",
    "!pip install torch==1.7.1\n",
    "!pip install tqdm==4.62.3\n",
    "!pip install transformers==4.5.1"
   ]
  },
  {
   "cell_type": "markdown",
   "id": "867b97cc",
   "metadata": {},
   "source": [
    "Pre-processing"
   ]
  },
  {
   "cell_type": "code",
   "execution_count": null,
   "id": "ea41ed8c",
   "metadata": {},
   "outputs": [],
   "source": [
    "%run preprocess_mimic3.py"
   ]
  },
  {
   "cell_type": "markdown",
   "id": "0d1550d6",
   "metadata": {},
   "source": [
    "MultiResCNN"
   ]
  },
  {
   "cell_type": "code",
   "execution_count": null,
   "id": "3b9f6902",
   "metadata": {},
   "outputs": [],
   "source": [
    "!python main.py\n",
    "--MODEL_DIR /path/to/project/root/models \\\n",
    "--DATA_DIR /path/to/project/root/data \\\n",
    "--MIMIC_3_DIR /path/to/project/root/data/mimic3 \\\n",
    "--data_path /path/to/project/root/data/mimic3/train_full.csv \\\n",
    "--embed_file /path/to/project/root/data/mimic3/processed_full_100.embed \\\n",
    "--vocab /path/to/project/root/data/mimic3/vocab.csv \\\n",
    "--Y full \\\n",
    "--model MultiResCNN \\\n",
    "--decoder RandomlyInitialized \\\n",
    "--criterion prec_at_8 \\\n",
    "--MAX_LENGTH 4096 \\\n",
    "--batch_size 8 \\\n",
    "--lr 5e-5 \\\n",
    "--num_workers 8"
   ]
  },
  {
   "cell_type": "markdown",
   "id": "1225b248",
   "metadata": {},
   "source": [
    "MultiresCNN_HiCuA"
   ]
  },
  {
   "cell_type": "code",
   "execution_count": null,
   "id": "c22b5947",
   "metadata": {},
   "outputs": [],
   "source": [
    "!python main.py \n",
    "--MODEL_DIR /path/to/project/root/models \\\n",
    "--DATA_DIR /path/to/project/root/data \\\n",
    "--MIMIC_3_DIR /path/to/project/root/data/mimic3 \\\n",
    "--data_path /path/to/project/root/data/mimic3/train_full.csv \\\n",
    "--embed_file /path/to/project/root/data/mimic3/processed_full_100.embed \\\n",
    "--vocab /path/to/project/root/data/mimic3/vocab.csv \\\n",
    "--Y full \\\n",
    "--model MultiResCNN \\\n",
    "--decoder HierarchicalHyperbolic \\\n",
    "--criterion prec_at_8 \\\n",
    "--MAX_LENGTH 4096 \\\n",
    "--batch_size 8  \\\n",
    "--lr 5e-5 \\\n",
    "--depth 5 \\\n",
    "--n_epochs '2,3,5,10,500'  \\\n",
    "--num_workers 8 \\\n",
    "--hyperbolic_dim 50"
   ]
  },
  {
   "cell_type": "markdown",
   "id": "4813bcf6",
   "metadata": {},
   "source": [
    "MultiresCNN_HiCuA_Asl"
   ]
  },
  {
   "cell_type": "code",
   "execution_count": null,
   "id": "0fface13",
   "metadata": {},
   "outputs": [],
   "source": [
    "!python main.py \n",
    "--MODEL_DIR /path/to/project/root/models \\\n",
    "--DATA_DIR /path/to/project/root/data \\\n",
    "--MIMIC_3_DIR /path/to/project/root/data/mimic3 \\\n",
    "--data_path /path/to/project/root/data/mimic3/train_full.csv \\\n",
    "--embed_file /path/to/project/root/data/mimic3/processed_full_100.embed \\\n",
    "--vocab /path/to/project/root/data/mimic3/vocab.csv \\\n",
    "--Y full \\\n",
    "--model MultiResCNN \\\n",
    "--decoder HierarchicalHyperbolic \\\n",
    "--criterion prec_at_8 \\\n",
    "--MAX_LENGTH 4096 \\\n",
    "--batch_size 8  \\\n",
    "--lr 5e-5 \\\n",
    "--depth 5 \\\n",
    "--n_epochs '2,3,5,10,500'  \\\n",
    "--num_workers 8 \\\n",
    "--hyperbolic_dim 50 \\\n",
    "--loss ASL \\\n",
    "--asl_config \"1,0,0.05\""
   ]
  },
  {
   "cell_type": "markdown",
   "id": "121b4a90",
   "metadata": {},
   "source": [
    "Multirescnn_hicuc"
   ]
  },
  {
   "cell_type": "code",
   "execution_count": null,
   "id": "44fb2df9",
   "metadata": {},
   "outputs": [],
   "source": [
    "!python main.py \n",
    "--MODEL_DIR /path/to/project/root/models \\\n",
    "--DATA_DIR /path/to/project/root/data \\\n",
    "--MIMIC_3_DIR /path/to/project/root/data/mimic3 \\\n",
    "--data_path /path/to/project/root/data/mimic3/train_full.csv \\\n",
    "--embed_file /path/to/project/root/data/mimic3/processed_full_100.embed \\\n",
    "--vocab /path/to/project/root/data/mimic3/vocab.csv \\\n",
    "--Y full \\\n",
    "--model MultiResCNN \\\n",
    "--decoder HierarchicalHyperbolic \\\n",
    "--criterion prec_at_8 \\\n",
    "--MAX_LENGTH 4096 \\\n",
    "--batch_size 8  \\\n",
    "--lr 5e-5 \\\n",
    "--depth 5 \\\n",
    "--n_epochs '2,3,5,10,500'  \\\n",
    "--num_workers 8 \\\n",
    "--hyperbolic_dim 50 \\\n",
    "--cat_hyperbolic"
   ]
  },
  {
   "cell_type": "markdown",
   "id": "454d35bd",
   "metadata": {},
   "source": [
    "Multirescnn_hicuc_asl"
   ]
  },
  {
   "cell_type": "code",
   "execution_count": null,
   "id": "27bc5f44",
   "metadata": {},
   "outputs": [],
   "source": [
    "! python main.py\n",
    "--MODEL_DIR /path/to/project/root/models \\\n",
    "--DATA_DIR /path/to/project/root/data \\\n",
    "--MIMIC_3_DIR /path/to/project/root/data/mimic3 \\\n",
    "--data_path /path/to/project/root/data/mimic3/train_full.csv \\\n",
    "--embed_file /path/to/project/root/data/mimic3/processed_full_100.embed \\\n",
    "--vocab /path/to/project/root/data/mimic3/vocab.csv \\\n",
    "--Y full \\\n",
    "--model MultiResCNN \\\n",
    "--decoder HierarchicalHyperbolic \\\n",
    "--criterion prec_at_8 \\\n",
    "--MAX_LENGTH 4096 \\\n",
    "--batch_size 8  \\\n",
    "--lr 5e-5 \\\n",
    "--depth 5 \\\n",
    "--n_epochs '2,3,5,10,500'  \\\n",
    "--num_workers 8 \\\n",
    "--hyperbolic_dim 50 \\\n",
    "--loss ASL \\\n",
    "--asl_config \"1,0,0.05\" \\\n",
    "--cat_hyperbolic"
   ]
  },
  {
   "cell_type": "markdown",
   "id": "28b777e1",
   "metadata": {},
   "source": [
    "RAC"
   ]
  },
  {
   "cell_type": "code",
   "execution_count": null,
   "id": "dd0d1bc5",
   "metadata": {},
   "outputs": [],
   "source": [
    "!python main.py \\\n",
    "--MODEL_DIR /path/to/project/root/models \\\n",
    "--DATA_DIR /path/to/project/root/data \\\n",
    "--MIMIC_3_DIR /path/to/project/root/data/mimic3 \\\n",
    "--data_path /path/to/project/root/data/mimic3/train_full.csv \\\n",
    "--embed_file /path/to/project/root/data/mimic3/processed_full_300.embed \\\n",
    "--vocab /path/to/project/root/data/mimic3/vocab_rac.csv \\\n",
    "--Y full \\\n",
    "--model RACReader \\\n",
    "--batch_size 16 \\\n",
    "--lr 8e-5 \\\n",
    "--criterion prec_at_8 \\\n",
    "--gpu '0,1,2,3' \\\n",
    "--tune_wordemb \\\n",
    "--MAX_LENGTH 4096 \\\n",
    "--num_workers 8 \\\n",
    "--filter_size 9 \\\n",
    "--decoder CodeTitle \\\n",
    "--dropout 0.1"
   ]
  },
  {
   "cell_type": "markdown",
   "id": "de6216bf",
   "metadata": {},
   "source": [
    "RAC_HiCuA"
   ]
  },
  {
   "cell_type": "code",
   "execution_count": null,
   "id": "8ef342d7",
   "metadata": {},
   "outputs": [],
   "source": [
    "!python main.py \\\n",
    "--MODEL_DIR /path/to/project/root/models \\\n",
    "--DATA_DIR /path/to/project/root/data \\\n",
    "--MIMIC_3_DIR /path/to/project/root/data/mimic3 \\\n",
    "--data_path /path/to/project/root/data/mimic3/train_full.csv \\\n",
    "--embed_file /path/to/project/root/data/mimic3/processed_full_300.embed \\\n",
    "--vocab /path/to/project/root/data/mimic3/vocab_rac.csv \\\n",
    "--Y full \\\n",
    "--model RACReader \\\n",
    "--batch_size 16 \\\n",
    "--lr 8e-5 \\\n",
    "--criterion prec_at_8 \\\n",
    "--gpu '0,1,2,3' \\\n",
    "--tune_wordemb \\\n",
    "--MAX_LENGTH 4096 \\\n",
    "--num_workers 8 \\\n",
    "--filter_size 9 \\\n",
    "--n_epochs '2,3,5,7,500' \\\n",
    "--decoder HierarchicalHyperbolic \\\n",
    "--dropout 0.1 \\"
   ]
  },
  {
   "cell_type": "markdown",
   "id": "b5c08021",
   "metadata": {},
   "source": [
    "RAC_HiCuC"
   ]
  },
  {
   "cell_type": "code",
   "execution_count": null,
   "id": "267638e7",
   "metadata": {},
   "outputs": [],
   "source": [
    "!python main.py \\\n",
    "--MODEL_DIR /path/to/project/root/models \\\n",
    "--DATA_DIR /path/to/project/root/data \\\n",
    "--MIMIC_3_DIR /path/to/project/root/data/mimic3 \\\n",
    "--data_path /path/to/project/root/data/mimic3/train_full.csv \\\n",
    "--embed_file /path/to/project/root/data/mimic3/processed_full_300.embed \\\n",
    "--vocab /path/to/project/root/data/mimic3/vocab_rac.csv \\\n",
    "--Y full \\\n",
    "--model RACReader \\\n",
    "--batch_size 16 \\\n",
    "--lr 8e-5 \\\n",
    "--criterion prec_at_8 \\\n",
    "--gpu '0,1,2,3' \\\n",
    "--tune_wordemb \\\n",
    "--MAX_LENGTH 4096 \\\n",
    "--num_workers 8 \\\n",
    "--filter_size 9 \\\n",
    "--n_epochs '2,3,5,7,500' \\\n",
    "--decoder HierarchicalHyperbolic \\\n",
    "--dropout 0.1 \\\n",
    "--cat_hyperbolic"
   ]
  }
 ],
 "metadata": {
  "kernelspec": {
   "display_name": "Python 3 (ipykernel)",
   "language": "python",
   "name": "python3"
  },
  "language_info": {
   "codemirror_mode": {
    "name": "ipython",
    "version": 3
   },
   "file_extension": ".py",
   "mimetype": "text/x-python",
   "name": "python",
   "nbconvert_exporter": "python",
   "pygments_lexer": "ipython3",
   "version": "3.10.11"
  }
 },
 "nbformat": 4,
 "nbformat_minor": 5
}
